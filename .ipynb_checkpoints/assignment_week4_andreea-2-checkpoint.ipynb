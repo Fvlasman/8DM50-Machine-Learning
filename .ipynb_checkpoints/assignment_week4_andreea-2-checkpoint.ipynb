{
 "cells": [
  {
   "cell_type": "markdown",
   "id": "c48fa270",
   "metadata": {},
   "source": [
    "### Predicting drug response on cell lines from gene expression data with SVMs"
   ]
  },
  {
   "cell_type": "code",
   "execution_count": 18,
   "id": "d6453734",
   "metadata": {},
   "outputs": [
    {
     "name": "stdout",
     "output_type": "stream",
     "text": [
      "Accuracy: 0.7297297297297297\n",
      "Precision: 0.4\n",
      "              precision    recall  f1-score   support\n",
      "\n",
      "           0       0.85      0.79      0.82        29\n",
      "           1       0.40      0.50      0.44         8\n",
      "\n",
      "    accuracy                           0.73        37\n",
      "   macro avg       0.63      0.65      0.63        37\n",
      "weighted avg       0.75      0.73      0.74        37\n",
      "\n"
     ]
    }
   ],
   "source": [
    "import numpy as np\n",
    "from sklearn import datasets\n",
    "from sklearn.model_selection import train_test_split, GridSearchCV\n",
    "from sklearn.svm import SVC\n",
    "from sklearn.metrics import classification_report\n",
    "import pandas as pd\n",
    "from sklearn.metrics import accuracy_score, precision_score\n",
    "\n",
    "# Step 1: Load and preprocess the dataset \n",
    "\n",
    "gene_expression = pd.read_csv(\"/Users/deeaciobi/Documents/TU:e/Machine learning for medical imaging and biology/data/RNA_expression_curated.csv\", sep=',', header=0, index_col=0)\n",
    "drug_response = pd.read_csv(\"/Users/deeaciobi/Documents/TU:e/Machine learning for medical imaging and biology/data/drug_response_curated.csv\", sep=',', header=0, index_col=0)\n",
    "\n",
    "X = gene_expression.values  \n",
    "y = (drug_response.values > 0).astype(int)  # Convert drug response to binary labels\n",
    "\n",
    "# Step 2: Split the dataset into training and testing sets\n",
    "X_train, X_test, y_train, y_test = train_test_split(X, y, test_size=0.25, random_state=42)\n",
    "\n",
    "y_train = y_train.ravel()\n",
    "y_test = y_test.ravel()\n",
    "\n",
    "# Step 3: Define a grid of hyper-parameters to search over\n",
    "param_grid = {\n",
    "    'C': [0.1, 1, 10],\n",
    "    'gamma': [0.01, 0.1, 1],\n",
    "    'kernel': ['rbf', 'linear']\n",
    "}\n",
    "\n",
    "# Step 4: Use GridSearchCV to perform cross-validation and find the best hyper-parameters\n",
    "svm = SVC()\n",
    "grid_search = GridSearchCV(svm, param_grid, cv=5)\n",
    "grid_search.fit(X_train, y_train)\n",
    "\n",
    "# Step 5: Train the SVM classifier with the best parameters\n",
    "best_svm = grid_search.best_estimator_\n",
    "\n",
    "# Calculate accuracy\n",
    "accuracy = accuracy_score(y_test, y_pred)\n",
    "print(\"Accuracy:\", accuracy)\n",
    "\n",
    "# Calculate precision\n",
    "precision = precision_score(y_test, y_pred)\n",
    "print(\"Precision:\", precision)\n",
    "\n",
    "report = classification_report(y_test,y_pred)\n",
    "print(report)\n"
   ]
  },
  {
   "cell_type": "markdown",
   "id": "4fc48403",
   "metadata": {},
   "source": [
    "### Random forests"
   ]
  },
  {
   "cell_type": "code",
   "execution_count": 31,
   "id": "de08dc7d",
   "metadata": {},
   "outputs": [
    {
     "name": "stdout",
     "output_type": "stream",
     "text": [
      "Accuracy: 0.8666666666666667\n",
      "Precision: 1.0\n",
      "              precision    recall  f1-score   support\n",
      "\n",
      "           0       0.86      1.00      0.92        24\n",
      "           1       1.00      0.33      0.50         6\n",
      "\n",
      "    accuracy                           0.87        30\n",
      "   macro avg       0.93      0.67      0.71        30\n",
      "weighted avg       0.89      0.87      0.84        30\n",
      "\n"
     ]
    }
   ],
   "source": [
    "import numpy as np\n",
    "from sklearn.model_selection import train_test_split, GridSearchCV\n",
    "from sklearn.svm import SVC\n",
    "from sklearn.ensemble import RandomForestClassifier\n",
    "from sklearn.metrics import classification_report\n",
    "import matplotlib.pyplot as plt\n",
    "\n",
    "# Step 1: Load and preprocess the dataset \n",
    "\n",
    "gene_expression = pd.read_csv(\"/Users/deeaciobi/Documents/TU:e/Machine learning for medical imaging and biology/data/RNA_expression_curated.csv\", sep=',', header=0, index_col=0)\n",
    "drug_response = pd.read_csv(\"/Users/deeaciobi/Documents/TU:e/Machine learning for medical imaging and biology/data/drug_response_curated.csv\", sep=',', header=0, index_col=0)\n",
    "\n",
    "X = gene_expression.values  \n",
    "y = (drug_response.values > 0).astype(int)  # Convert drug response to binary labels\n",
    "\n",
    "# Split the data into training and testing sets\n",
    "X_train, X_test, y_train, y_test = train_test_split(X, y, test_size=0.2, random_state=42)\n",
    "\n",
    "# Convert y to 1-dimensional array\n",
    "y_train = y_train.ravel()\n",
    "y_test = y_test.ravel()\n",
    "\n",
    "\n",
    "# Random Forest Classifier\n",
    "rf_param_grid = {\n",
    "    'n_estimators': [100, 200, 300],\n",
    "    'max_depth': [None, 5, 10],\n",
    "    'max_features': ['auto','sqrt'],\n",
    "    'min_samples_split': [2, 5, 10],\n",
    "    'min_samples_leaf': [2,3,10], \n",
    "    'min_samples_split': [2,3,10],\n",
    "    'criterion': ['entropy','gini'], \n",
    "}\n",
    "\n",
    "random_forest = RandomForestClassifier(bootstrap = True, oob_score = True )\n",
    "\n",
    "\n",
    "rf = RandomForestClassifier()\n",
    "rf_grid_search = GridSearchCV(rf, rf_param_grid, cv=5)\n",
    "rf_grid_search.fit(X_train, y_train)\n",
    "best_rf = rf_grid_search.best_estimator_\n",
    "\n",
    "y_pred_rf = best_rf.predict(X_test)\n",
    "precision_rf = np.sum(y_pred_rf == y_test) / len(y_test)\n",
    "classification_rep_rf = classification_report(y_test, y_pred_rf, zero_division=1)\n",
    "\n",
    "# Calculate accuracy\n",
    "accuracy = accuracy_score(y_test, y_pred_rf)\n",
    "print(\"Accuracy:\", accuracy)\n",
    "\n",
    "# Calculate precision\n",
    "precision = precision_score(y_test, y_pred_rf)\n",
    "print(\"Precision:\", precision)\n",
    "\n",
    "report = classification_report(y_test,y_pred_rf)\n",
    "print(report)\n",
    "\n",
    "\n"
   ]
  },
  {
   "cell_type": "code",
   "execution_count": 33,
   "id": "4947144f",
   "metadata": {},
   "outputs": [
    {
     "name": "stdout",
     "output_type": "stream",
     "text": [
      "Feature: 0, Score: 0.01137\n",
      "Feature: 1, Score: 0.01021\n",
      "Feature: 2, Score: 0.00898\n",
      "Feature: 3, Score: 0.00857\n",
      "Feature: 4, Score: 0.00827\n",
      "Feature: 5, Score: 0.11186\n",
      "Feature: 6, Score: 0.01299\n",
      "Feature: 7, Score: 0.00901\n",
      "Feature: 8, Score: 0.03636\n",
      "Feature: 9, Score: 0.01070\n",
      "Feature: 10, Score: 0.00869\n",
      "Feature: 11, Score: 0.01060\n",
      "Feature: 12, Score: 0.00810\n",
      "Feature: 13, Score: 0.00856\n",
      "Feature: 14, Score: 0.00731\n",
      "Feature: 15, Score: 0.01014\n",
      "Feature: 16, Score: 0.00786\n",
      "Feature: 17, Score: 0.06772\n",
      "Feature: 18, Score: 0.00848\n",
      "Feature: 19, Score: 0.05484\n",
      "Feature: 20, Score: 0.02222\n",
      "Feature: 21, Score: 0.00968\n",
      "Feature: 22, Score: 0.04773\n",
      "Feature: 23, Score: 0.00904\n",
      "Feature: 24, Score: 0.00898\n",
      "Feature: 25, Score: 0.01006\n",
      "Feature: 26, Score: 0.00972\n",
      "Feature: 27, Score: 0.00860\n",
      "Feature: 28, Score: 0.04792\n",
      "Feature: 29, Score: 0.11186\n",
      "Feature: 30, Score: 0.00898\n",
      "Feature: 31, Score: 0.00801\n",
      "Feature: 32, Score: 0.00862\n",
      "Feature: 33, Score: 0.00878\n",
      "Feature: 34, Score: 0.00982\n",
      "Feature: 35, Score: 0.00851\n",
      "Feature: 36, Score: 0.01041\n",
      "Feature: 37, Score: 0.00969\n",
      "Feature: 38, Score: 0.00810\n",
      "Feature: 39, Score: 0.03839\n",
      "Feature: 40, Score: 0.00948\n",
      "Feature: 41, Score: 0.00962\n",
      "Feature: 42, Score: 0.00887\n",
      "Feature: 43, Score: 0.00953\n",
      "Feature: 44, Score: 0.00815\n",
      "Feature: 45, Score: 0.01028\n",
      "Feature: 46, Score: 0.01056\n",
      "Feature: 47, Score: 0.01105\n",
      "Feature: 48, Score: 0.07840\n",
      "Feature: 49, Score: 0.00861\n",
      "Feature: 50, Score: 0.00971\n"
     ]
    },
    {
     "data": {
      "image/png": "[encoded data removed]",
      "text/plain": [
       "<Figure size 640x480 with 1 Axes>"
      ]
     },
     "metadata": {},
     "output_type": "display_data"
    }
   ],
   "source": [
    "# random forest for feature importance on a classification problem\n",
    "from sklearn.datasets import make_classification\n",
    "from sklearn.ensemble import RandomForestClassifier\n",
    "from matplotlib import pyplot\n",
    "# define dataset\n",
    "X, y = make_classification(n_samples=1000, n_features=51, n_informative=5, n_redundant=5, random_state=1)\n",
    "# define the model\n",
    "model = RandomForestClassifier()\n",
    "# fit the model\n",
    "model.fit(X, y)\n",
    "# get importance\n",
    "importance = model.feature_importances_\n",
    "# summarize feature importance\n",
    "for i,v in enumerate(importance):\n",
    " print('Feature: %0d, Score: %.5f' % (i,v))\n",
    "# plot feature importance\n",
    "pyplot.bar([x for x in range(len(importance))], importance)\n",
    "pyplot.show()"
   ]
  },
  {
   "cell_type": "code",
   "execution_count": 25,
   "id": "8cb22958",
   "metadata": {},
   "outputs": [
    {
     "data": {
      "image/png": "[encoded data removed]",
      "text/plain": [
       "<Figure size 1000x600 with 1 Axes>"
      ]
     },
     "metadata": {},
     "output_type": "display_data"
    }
   ],
   "source": [
    "# Feature Importance (Top 50)\n",
    "best_rf.fit(X_train, y_train)\n",
    "feature_importances = best_rf.feature_importances_\n",
    "top_50_indices = np.argsort(feature_importances)[-50:]\n",
    "\n",
    "# Visualize feature importance\n",
    "plt.figure(figsize=(10, 6))\n",
    "plt.barh(top_50_indices, feature_importances[top_50_indices])\n",
    "plt.xlabel('Feature Importance')\n",
    "plt.title('Top 50 Informative Features')\n",
    "plt.show()\n"
   ]
  },
  {
   "cell_type": "code",
   "execution_count": null,
   "id": "b4860bb9",
   "metadata": {},
   "outputs": [],
   "source": []
  },
  {
   "cell_type": "code",
   "execution_count": null,
   "id": "2a22fb52",
   "metadata": {},
   "outputs": [],
   "source": []
  }
 ],
 "metadata": {
  "kernelspec": {
   "display_name": "Python 3 (ipykernel)",
   "language": "python",
   "name": "python3"
  },
  "language_info": {
   "codemirror_mode": {
    "name": "ipython",
    "version": 3
   },
   "file_extension": ".py",
   "mimetype": "text/x-python",
   "name": "python",
   "nbconvert_exporter": "python",
   "pygments_lexer": "ipython3",
   "version": "3.10.9"
  }
 },
 "nbformat": 4,
 "nbformat_minor": 5
}
